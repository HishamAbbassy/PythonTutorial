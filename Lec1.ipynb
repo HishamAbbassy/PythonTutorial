{
 "cells": [
  {
   "cell_type": "markdown",
   "metadata": {},
   "source": [
    "# Basic Python"
   ]
  },
  {
   "cell_type": "code",
   "execution_count": 1,
   "metadata": {},
   "outputs": [
    {
     "name": "stdout",
     "output_type": "stream",
     "text": [
      "0\n",
      "1\n",
      "2\n",
      "3\n",
      "4\n",
      "5\n",
      "6\n",
      "7\n",
      "8\n",
      "9\n"
     ]
    }
   ],
   "source": [
    "i = 0\n",
    "while i < 10:\n",
    "    print(i)\n",
    "    i += 1"
   ]
  },
  {
   "cell_type": "code",
   "execution_count": 2,
   "metadata": {},
   "outputs": [
    {
     "name": "stdout",
     "output_type": "stream",
     "text": [
      "0 1 2 3 4 5 6 7 8 9 "
     ]
    }
   ],
   "source": [
    "i = 0\n",
    "while i < 10:\n",
    "    print(i, end=' ')\n",
    "    i += 1"
   ]
  },
  {
   "cell_type": "markdown",
   "metadata": {},
   "source": [
    "# Advanced Python"
   ]
  },
  {
   "cell_type": "code",
   "execution_count": 3,
   "metadata": {},
   "outputs": [],
   "source": [
    "class Incrementer:\n",
    "    def __init__(self, start, end):\n",
    "        self.i = start\n",
    "        self.end = end\n",
    "        \n",
    "    def __next__(self):\n",
    "        i = self.i\n",
    "        self.i += 1\n",
    "        if i >= self.end:\n",
    "            raise StopIteration\n",
    "        return i\n",
    "    \n",
    "    def __iter__(self):\n",
    "        return self"
   ]
  },
  {
   "cell_type": "code",
   "execution_count": 4,
   "metadata": {},
   "outputs": [
    {
     "name": "stdout",
     "output_type": "stream",
     "text": [
      "0 1 2 3 4 5 6 7 8 9 "
     ]
    }
   ],
   "source": [
    "for i in Incrementer(0, 10):\n",
    "    print(i, end=' ')"
   ]
  },
  {
   "cell_type": "markdown",
   "metadata": {},
   "source": [
    "# Numerical Computing with NumPy"
   ]
  },
  {
   "cell_type": "code",
   "execution_count": 5,
   "metadata": {},
   "outputs": [
    {
     "data": {
      "text/plain": [
       "array([[ 0,  2,  6,  4, 14,  9,  2, 10,  3,  4,  5,  3,  6, 10,  0, 17],\n",
       "       [12,  0, 11,  9, 10,  4,  6,  4,  6, 14, 16,  0, 17, 17, 10, 11],\n",
       "       [14, 13,  8,  2,  1, 16, 15,  4,  4,  4, 10, 14, 19, 10,  6, 12],\n",
       "       [10,  3,  2, 13,  8,  7, 10, 13, 17, 16,  4,  7,  3, 18,  5,  5],\n",
       "       [ 4,  2, 18, 17,  3,  1,  3,  0, 10,  1,  6, 13, 11, 10,  5, 15],\n",
       "       [ 1, 13,  3,  2, 17,  9,  7,  8,  4,  0,  1, 11,  8,  0,  7, 19],\n",
       "       [16,  1, 12,  7, 18, 13,  7, 14,  9,  1, 19,  5,  2,  6, 13,  6],\n",
       "       [10,  3,  5, 11, 14,  3,  0,  3,  2,  2, 19, 13,  5, 16,  6, 11],\n",
       "       [ 4, 16,  3,  8,  8, 17,  5, 17, 12, 14,  1,  9,  7, 13, 16,  2],\n",
       "       [19, 14, 18,  4,  1,  8, 15, 15, 12, 19, 10,  2, 18,  7,  1,  1],\n",
       "       [19,  4,  6,  7, 19, 14,  2,  1,  8,  8, 16, 16, 11, 11, 10, 17],\n",
       "       [ 1,  7,  9,  4, 15, 19,  0,  8, 16,  1, 15,  9,  7,  6, 14, 15],\n",
       "       [10,  3, 18,  3,  9, 14, 18, 17,  7, 13, 16,  6, 14, 12, 18, 14],\n",
       "       [ 4, 13, 17, 15, 15, 11,  6,  2,  3, 14,  5,  1, 12,  9,  2, 13],\n",
       "       [13,  3,  1, 11, 18, 15, 11,  8,  7, 17, 13, 16,  1,  4, 12, 19],\n",
       "       [ 7, 18,  2,  5,  2,  3,  7, 16, 18,  7, 11, 18,  1,  0, 17, 16]])"
      ]
     },
     "execution_count": 5,
     "metadata": {},
     "output_type": "execute_result"
    }
   ],
   "source": [
    "import numpy as np\n",
    "\n",
    "two_dim_arr = np.random.randint(0, high=20, size=(16,16))\n",
    "two_dim_arr"
   ]
  },
  {
   "cell_type": "markdown",
   "metadata": {},
   "source": [
    "# Visualizations with Matplotlib"
   ]
  },
  {
   "cell_type": "code",
   "execution_count": 6,
   "metadata": {},
   "outputs": [
    {
     "data": {
      "image/png": "[encoded data removed]",
      "text/plain": [
       "<Figure size 432x288 with 1 Axes>"
      ]
     },
     "metadata": {},
     "output_type": "display_data"
    }
   ],
   "source": [
    "import matplotlib.pyplot as plt\n",
    "%matplotlib inline\n",
    "\n",
    "labels = 'Frogs', 'Hogs', 'Dogs', 'Logs'\n",
    "sizes = [15, 30, 45, 20]\n",
    "\n",
    "fig, ax = plt.subplots()\n",
    "ax.pie(sizes, labels=labels, autopct='%1.1f%%')\n",
    "plt.show()"
   ]
  },
  {
   "cell_type": "markdown",
   "metadata": {},
   "source": [
    "# Framing your Data with Pandas"
   ]
  },
  {
   "cell_type": "code",
   "execution_count": 8,
   "metadata": {},
   "outputs": [],
   "source": [
    "import pandas as pd \n",
    "\n",
    "area_dict = {'California': 423967, 'Texas': 695662, 'New York': 141297,\n",
    "            'Florida': 170312, 'Illinois': 149995}\n",
    "population_dict = {'California': 38332521,\n",
    "                   'Texas': 26448193,\n",
    "                   'New York': 19651127,\n",
    "                   'Florida': 19552860,\n",
    "                   'Illinois': 12882135}\n",
    "states = pd.DataFrame({'Population': population_dict,\n",
    "                      'area': area_dict,\n",
    "                      'country': 'USA'})"
   ]
  },
  {
   "cell_type": "code",
   "execution_count": 9,
   "metadata": {},
   "outputs": [
    {
     "data": {
      "text/html": [
       "<div>\n",
       "<style scoped>\n",
       "    .dataframe tbody tr th:only-of-type {\n",
       "        vertical-align: middle;\n",
       "    }\n",
       "\n",
       "    .dataframe tbody tr th {\n",
       "        vertical-align: top;\n",
       "    }\n",
       "\n",
       "    .dataframe thead th {\n",
       "        text-align: right;\n",
       "    }\n",
       "</style>\n",
       "<table border=\"1\" class=\"dataframe\">\n",
       "  <thead>\n",
       "    <tr style=\"text-align: right;\">\n",
       "      <th></th>\n",
       "      <th>Population</th>\n",
       "      <th>area</th>\n",
       "      <th>country</th>\n",
       "    </tr>\n",
       "  </thead>\n",
       "  <tbody>\n",
       "    <tr>\n",
       "      <th>California</th>\n",
       "      <td>38332521</td>\n",
       "      <td>423967</td>\n",
       "      <td>USA</td>\n",
       "    </tr>\n",
       "    <tr>\n",
       "      <th>Florida</th>\n",
       "      <td>19552860</td>\n",
       "      <td>170312</td>\n",
       "      <td>USA</td>\n",
       "    </tr>\n",
       "    <tr>\n",
       "      <th>Illinois</th>\n",
       "      <td>12882135</td>\n",
       "      <td>149995</td>\n",
       "      <td>USA</td>\n",
       "    </tr>\n",
       "    <tr>\n",
       "      <th>New York</th>\n",
       "      <td>19651127</td>\n",
       "      <td>141297</td>\n",
       "      <td>USA</td>\n",
       "    </tr>\n",
       "    <tr>\n",
       "      <th>Texas</th>\n",
       "      <td>26448193</td>\n",
       "      <td>695662</td>\n",
       "      <td>USA</td>\n",
       "    </tr>\n",
       "  </tbody>\n",
       "</table>\n",
       "</div>"
      ],
      "text/plain": [
       "            Population    area country\n",
       "California    38332521  423967     USA\n",
       "Florida       19552860  170312     USA\n",
       "Illinois      12882135  149995     USA\n",
       "New York      19651127  141297     USA\n",
       "Texas         26448193  695662     USA"
      ]
     },
     "execution_count": 9,
     "metadata": {},
     "output_type": "execute_result"
    }
   ],
   "source": [
    "states"
   ]
  },
  {
   "cell_type": "code",
   "execution_count": null,
   "metadata": {},
   "outputs": [],
   "source": []
  }
 ],
 "metadata": {
  "kernelspec": {
   "display_name": "Python 3",
   "language": "python",
   "name": "python3"
  },
  "language_info": {
   "codemirror_mode": {
    "name": "ipython",
    "version": 3
   },
   "file_extension": ".py",
   "mimetype": "text/x-python",
   "name": "python",
   "nbconvert_exporter": "python",
   "pygments_lexer": "ipython3",
   "version": "3.7.2"
  }
 },
 "nbformat": 4,
 "nbformat_minor": 2
}
