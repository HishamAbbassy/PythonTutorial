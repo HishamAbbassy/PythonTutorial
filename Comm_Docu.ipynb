{
 "cells": [
  {
   "cell_type": "markdown",
   "metadata": {},
   "source": [
    "##  Type Hinting"
   ]
  },
  {
   "cell_type": "code",
   "execution_count": 1,
   "metadata": {},
   "outputs": [],
   "source": [
    "def hello_name(name: str) -> str:\n",
    "    return(f\"Hello {name}\")"
   ]
  },
  {
   "cell_type": "code",
   "execution_count": 2,
   "metadata": {},
   "outputs": [],
   "source": [
    "hello_name(\"Hisham\")"
   ]
  },
  {
   "cell_type": "markdown",
   "metadata": {},
   "source": [
    "# Documenting"
   ]
  },
  {
   "cell_type": "code",
   "execution_count": 3,
   "metadata": {},
   "outputs": [],
   "source": [
    "def say_hello(name):\n",
    "    print(f\"Hello {name}\")\n",
    "\n",
    "say_hello.__doc__ = \"A simple function that says hello\""
   ]
  },
  {
   "cell_type": "code",
   "execution_count": 4,
   "metadata": {},
   "outputs": [],
   "source": [
    "say_hello(\"Hisham\")"
   ]
  },
  {
   "cell_type": "code",
   "execution_count": 5,
   "metadata": {},
   "outputs": [
    {
     "name": "stdout",
     "output_type": "stream",
     "text": [
      "Help on function say_hello in module __main__:\n",
      "\n",
      "say_hello(name)\n",
      "    A simple function that says hello\n",
      "\n"
     ]
    }
   ],
   "source": [
    "help(say_hello)"
   ]
  },
  {
   "cell_type": "code",
   "execution_count": 6,
   "metadata": {},
   "outputs": [],
   "source": [
    "class Animal:\n",
    "    \"\"\"\n",
    "    A class used to represent an Animal\n",
    "    \n",
    "    ...\n",
    "    \n",
    "    Attributes\n",
    "    ----------\n",
    "    say_str : str\n",
    "       a formatted string to print out what the animal says\n",
    "    name : str\n",
    "       the name of the animal\n",
    "    sound : str\n",
    "       the sound that the animal makes\n",
    "    num_legs : int\n",
    "       the number of legs the animal has (default 4)\n",
    "       \n",
    "    Methods\n",
    "    -------\n",
    "    says(sound=None)\n",
    "        Prints the animals name and what sounds it make\n",
    "    \n",
    "    \"\"\"\n",
    "    \n",
    "    says_str = \"A {name} says {sound}\"\n",
    "    \n",
    "    def __init__(self, name, sound, num_legs=4):\n",
    "        \"\"\"\n",
    "        Parameters\n",
    "        ----------\n",
    "        name : str\n",
    "            The name of the animal\n",
    "        sound : str\n",
    "            The sound the animal makes\n",
    "        num_legs : int, optional\n",
    "            The number of legs the animal has (default is 4)\n",
    "        \"\"\"\n",
    "        \n",
    "        self.name = name\n",
    "        self.sound = sound\n",
    "        self.num_legs = num_legs\n",
    "        \n",
    "    def says(self, sound=None):\n",
    "        \"\"\"Prints what the animals name is and what sound it makes.\n",
    "\n",
    "        If the argument `sound` isn't passed in, the default Animal\n",
    "        sound is used.\n",
    "\n",
    "        Parameters\n",
    "        ----------\n",
    "        sound : str, optional\n",
    "            The sound the animal makes (default is None)\n",
    "\n",
    "        Raises\n",
    "        ------\n",
    "        NotImplementedError\n",
    "            If no sound is set for the animal or passed in as a\n",
    "            parameter.\n",
    "        \"\"\"\n",
    "        if self.sound is None and sound is None:\n",
    "            raise NotImplementedError(\"Silent Animals are not supported!\")\n",
    "\n",
    "        out_sound = self.sound if sound is None else sound\n",
    "        print(self.says_str.format(name=self.name, sound=out_sound))"
   ]
  },
  {
   "cell_type": "code",
   "execution_count": 7,
   "metadata": {},
   "outputs": [],
   "source": [
    "a = Animal(\"Cat\", \"Miaw\")"
   ]
  },
  {
   "cell_type": "code",
   "execution_count": 8,
   "metadata": {},
   "outputs": [
    {
     "name": "stdout",
     "output_type": "stream",
     "text": [
      "A Cat says Miaw\n"
     ]
    }
   ],
   "source": [
    "a.says()"
   ]
  },
  {
   "cell_type": "code",
   "execution_count": 9,
   "metadata": {},
   "outputs": [
    {
     "name": "stdout",
     "output_type": "stream",
     "text": [
      "<__main__.Animal object at 0x000001D7D301CB38>\n"
     ]
    }
   ],
   "source": [
    "print(a)"
   ]
  },
  {
   "cell_type": "code",
   "execution_count": null,
   "metadata": {},
   "outputs": [],
   "source": []
  }
 ],
 "metadata": {
  "kernelspec": {
   "display_name": "Python 3",
   "language": "python",
   "name": "python3"
  },
  "language_info": {
   "codemirror_mode": {
    "name": "ipython",
    "version": 3
   },
   "file_extension": ".py",
   "mimetype": "text/x-python",
   "name": "python",
   "nbconvert_exporter": "python",
   "pygments_lexer": "ipython3",
   "version": "3.7.2"
  }
 },
 "nbformat": 4,
 "nbformat_minor": 2
}
